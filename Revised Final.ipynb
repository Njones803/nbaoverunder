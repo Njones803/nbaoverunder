{
 "cells": [
  {
   "cell_type": "markdown",
   "id": "f7da66be-b679-49a2-96bc-4ec0ecbb3c18",
   "metadata": {
    "panel-layout": {
     "height": 95.6640625,
     "visible": true,
     "width": 100
    }
   },
   "source": [
    "# Using Machine Learning to Predict NBA Over/Under\n",
    "### Nathaniel Jones\n",
    "***"
   ]
  },
  {
   "cell_type": "code",
   "execution_count": 3,
   "id": "3cccf30a-76ac-4bd4-823c-e5faee215fef",
   "metadata": {},
   "outputs": [],
   "source": [
    "import pandas as pd\n",
    "import numpy as np\n",
    "import matplotlib.pyplot as plt\n",
    "import seaborn as sns\n",
    "from sklearn.model_selection import train_test_split\n",
    "from sklearn.linear_model import LogisticRegression\n",
    "from sklearn.metrics import accuracy_score, classification_report\n",
    "from sklearn import metrics\n",
    "import scipy.stats as stats "
   ]
  },
  {
   "cell_type": "markdown",
   "id": "4d7a5696-72aa-4871-b63f-2e3e38578b44",
   "metadata": {
    "panel-layout": {
     "height": 118.6875,
     "visible": true,
     "width": 100
    }
   },
   "source": [
    "## Import data\n",
    "First I'll need to bring in the data being used. The NBA 2023-2024 data is from Basketball Reference (https://www.basketball-reference.com/leagues/NBA_2024_games-october.html). This NBA data contains scores and stats from every game during the 2023-2024 season. The betting data was found on Kaggle (https://www.kaggle.com/datasets/cviaxmiwnptr/nba-betting-data-october-2007-to-june-2024). The user on Kaggle has compiled a dataset containing scores, point spreads, totals, and other odds from all NBA games from 2007 to 2024."
   ]
  },
  {
   "cell_type": "code",
   "execution_count": 5,
   "id": "3cef153a-d489-48bf-b30c-4233f7b6528a",
   "metadata": {},
   "outputs": [],
   "source": [
    "# Read in NBA data for 2023-2024 season\n",
    "nba_df = pd.read_csv('/Users/nathanieljones/Library/CloudStorage/OneDrive-AppalachianStateUniversity/Spring 2025/CIS 5685 Programming/Final Project/nba_2023_24_gamelog.csv')"
   ]
  },
  {
   "cell_type": "code",
   "execution_count": 6,
   "id": "2662d5d5-8d6b-4e74-9618-0fbfc5c0c8e2",
   "metadata": {},
   "outputs": [],
   "source": [
    "# Read in betting data\n",
    "betting_df = pd.read_csv('/Users/nathanieljones/Library/CloudStorage/OneDrive-AppalachianStateUniversity/Spring 2025/CIS 5685 Programming/Final Project/nba_2008-2024.csv')"
   ]
  },
  {
   "cell_type": "code",
   "execution_count": 7,
   "id": "21fb19d3-d74c-4453-a594-1ece87d04a9d",
   "metadata": {
    "panel-layout": {
     "height": 0,
     "visible": true,
     "width": 100
    }
   },
   "outputs": [
    {
     "name": "stdout",
     "output_type": "stream",
     "text": [
      "              Date             Visitor  PTS                   Home  PTS.1\n",
      "0  Tue Oct 24 2023  Los Angeles Lakers  107         Denver Nuggets    119\n",
      "1  Tue Oct 24 2023        Phoenix Suns  108  Golden State Warriors    104\n",
      "2  Wed Oct 25 2023     Houston Rockets   86          Orlando Magic    116\n",
      "3  Wed Oct 25 2023      Boston Celtics  108        New York Knicks    104\n",
      "4  Wed Oct 25 2023  Washington Wizards  120         Indiana Pacers    143\n",
      "   season      date  regular  playoffs  away home  score_away  score_home  \\\n",
      "0    2008  10/30/07     True     False   por   sa          97         106   \n",
      "1    2008  10/30/07     True     False  utah   gs         117          96   \n",
      "2    2008  10/30/07     True     False   hou  lal          95          93   \n",
      "3    2008  10/31/07     True     False   phi  tor          97         106   \n",
      "4    2008  10/31/07     True     False   wsh  ind         110         119   \n",
      "\n",
      "   q1_away  q2_away  ...  ot_home  whos_favored  spread  total  \\\n",
      "0       26       23  ...        0          home    13.0  189.5   \n",
      "1       28       34  ...        0          home     1.0  212.0   \n",
      "2       16       27  ...        0          away     5.0  199.0   \n",
      "3       22       28  ...        0          home     6.5  191.0   \n",
      "4       23       22  ...       16          away     1.5  203.5   \n",
      "\n",
      "   moneyline_away  moneyline_home  h2_spread  h2_total id_spread  id_total  \n",
      "0           900.0         -1400.0        5.0      95.0       0.0       1.0  \n",
      "1           100.0          -120.0        3.0     105.5       0.0       1.0  \n",
      "2          -230.0           190.0        3.0      99.0       0.0       0.0  \n",
      "3           255.0          -305.0        2.0      96.5       1.0       1.0  \n",
      "4          -125.0           105.0        1.0     105.0       0.0       1.0  \n",
      "\n",
      "[5 rows x 27 columns]\n"
     ]
    }
   ],
   "source": [
    "# Check data\n",
    "print(nba_df.head())\n",
    "print(betting_df.head())"
   ]
  },
  {
   "cell_type": "markdown",
   "id": "da3454f5-a186-486b-9ba8-74c97d7692a9",
   "metadata": {
    "panel-layout": {
     "height": 84.40625,
     "visible": true,
     "width": 100
    }
   },
   "source": [
    "## Adjustments\n",
    "The nba_df date column is formatted differently than the betting_df. To merge these datasets, I will need to get both datasets in the same date format to match games properly. I will also filter only for the season of interest, 2023-2024. "
   ]
  },
  {
   "cell_type": "code",
   "execution_count": 9,
   "id": "77ae6f19-c5ad-4716-ab62-b98924bb3750",
   "metadata": {},
   "outputs": [],
   "source": [
    "# Adjust Date columns for merge\n",
    "nba_df['Date'] = pd.to_datetime(nba_df['Date'], format='%a %b %d %Y')\n",
    "betting_df['date'] = pd.to_datetime(betting_df['date'], format='%m/%d/%y')"
   ]
  },
  {
   "cell_type": "code",
   "execution_count": 10,
   "id": "bb2b80de-5fbf-40f2-998f-86f07be0e8e3",
   "metadata": {},
   "outputs": [],
   "source": [
    "# Filter only 2023–24 season\n",
    "seasons_of_interest = [2024]\n",
    "betting_df = betting_df[betting_df['season'].isin(seasons_of_interest)]"
   ]
  },
  {
   "cell_type": "code",
   "execution_count": 11,
   "id": "88f292b5-b71d-4ec7-a3d0-21dcda171c76",
   "metadata": {},
   "outputs": [],
   "source": [
    "# Merge on date column to combine datasets\n",
    "merged_df = nba_df.merge(betting_df, left_on='Date', right_on='date', how='left')"
   ]
  },
  {
   "cell_type": "code",
   "execution_count": 12,
   "id": "475233e3-774d-48a7-af50-8f64fd1db33f",
   "metadata": {
    "panel-layout": {
     "height": 0,
     "visible": true,
     "width": 100
    }
   },
   "outputs": [
    {
     "name": "stdout",
     "output_type": "stream",
     "text": [
      "        Date             Visitor  PTS                   Home  PTS.1  season  \\\n",
      "0 2023-10-24  Los Angeles Lakers  107         Denver Nuggets    119    2024   \n",
      "1 2023-10-24  Los Angeles Lakers  107         Denver Nuggets    119    2024   \n",
      "2 2023-10-24        Phoenix Suns  108  Golden State Warriors    104    2024   \n",
      "3 2023-10-24        Phoenix Suns  108  Golden State Warriors    104    2024   \n",
      "4 2023-10-25     Houston Rockets   86          Orlando Magic    116    2024   \n",
      "\n",
      "        date  regular  playoffs away  ... ot_home  whos_favored  spread  \\\n",
      "0 2023-10-24     True     False  lal  ...       0          home     4.5   \n",
      "1 2023-10-24     True     False  phx  ...       0          home     3.5   \n",
      "2 2023-10-24     True     False  lal  ...       0          home     4.5   \n",
      "3 2023-10-24     True     False  phx  ...       0          home     3.5   \n",
      "4 2023-10-25     True     False   no  ...       0          home     1.5   \n",
      "\n",
      "   total  moneyline_away  moneyline_home  h2_spread  h2_total  id_spread  \\\n",
      "0  228.5             NaN             NaN        NaN       NaN        1.0   \n",
      "1  235.5             NaN             NaN        NaN       NaN        0.0   \n",
      "2  228.5             NaN             NaN        NaN       NaN        1.0   \n",
      "3  235.5             NaN             NaN        NaN       NaN        0.0   \n",
      "4  224.5             NaN             NaN        NaN       NaN        0.0   \n",
      "\n",
      "   id_total  \n",
      "0       0.0  \n",
      "1       0.0  \n",
      "2       0.0  \n",
      "3       0.0  \n",
      "4       0.0  \n",
      "\n",
      "[5 rows x 32 columns]\n",
      "<class 'pandas.core.frame.DataFrame'>\n",
      "RangeIndex: 11027 entries, 0 to 11026\n",
      "Data columns (total 32 columns):\n",
      " #   Column          Non-Null Count  Dtype         \n",
      "---  ------          --------------  -----         \n",
      " 0   Date            11027 non-null  datetime64[ns]\n",
      " 1   Visitor         11027 non-null  object        \n",
      " 2   PTS             11027 non-null  int64         \n",
      " 3   Home            11027 non-null  object        \n",
      " 4   PTS.1           11027 non-null  int64         \n",
      " 5   season          11027 non-null  int64         \n",
      " 6   date            11027 non-null  datetime64[ns]\n",
      " 7   regular         11027 non-null  bool          \n",
      " 8   playoffs        11027 non-null  bool          \n",
      " 9   away            11027 non-null  object        \n",
      " 10  home            11027 non-null  object        \n",
      " 11  score_away      11027 non-null  int64         \n",
      " 12  score_home      11027 non-null  int64         \n",
      " 13  q1_away         11027 non-null  int64         \n",
      " 14  q2_away         11027 non-null  int64         \n",
      " 15  q3_away         11027 non-null  int64         \n",
      " 16  q4_away         11027 non-null  int64         \n",
      " 17  ot_away         11027 non-null  int64         \n",
      " 18  q1_home         11027 non-null  int64         \n",
      " 19  q2_home         11027 non-null  int64         \n",
      " 20  q3_home         11027 non-null  int64         \n",
      " 21  q4_home         11027 non-null  int64         \n",
      " 22  ot_home         11027 non-null  int64         \n",
      " 23  whos_favored    10992 non-null  object        \n",
      " 24  spread          10992 non-null  float64       \n",
      " 25  total           10992 non-null  float64       \n",
      " 26  moneyline_away  0 non-null      float64       \n",
      " 27  moneyline_home  0 non-null      float64       \n",
      " 28  h2_spread       0 non-null      float64       \n",
      " 29  h2_total        0 non-null      float64       \n",
      " 30  id_spread       10992 non-null  float64       \n",
      " 31  id_total        10992 non-null  float64       \n",
      "dtypes: bool(2), datetime64[ns](2), float64(8), int64(15), object(5)\n",
      "memory usage: 2.5+ MB\n"
     ]
    }
   ],
   "source": [
    "print(merged_df.head())\n",
    "merged_df.info()"
   ]
  },
  {
   "cell_type": "code",
   "execution_count": 13,
   "id": "a53f099f-ff41-4d7a-a2eb-5bed2a605953",
   "metadata": {},
   "outputs": [],
   "source": [
    "merged_df = merged_df.rename(columns={\"Visitor\": \"visitor_team\", \"Home\": \"home_team\"})"
   ]
  },
  {
   "cell_type": "markdown",
   "id": "1f9121d1-5025-431d-a4d6-ee91fd98d327",
   "metadata": {
    "panel-layout": {
     "height": 84.40625,
     "visible": true,
     "width": 100
    }
   },
   "source": [
    "## Variables of Interest\n",
    "The merged_df has many variables, most of them not being necessary for this analysis. I will create a model_df containing only the relevant variables for the over/under model. "
   ]
  },
  {
   "cell_type": "code",
   "execution_count": 15,
   "id": "e32a4aca-cadb-47e2-af6b-ee7618760e90",
   "metadata": {},
   "outputs": [],
   "source": [
    "model_df = merged_df[[\n",
    "    'Date',\n",
    "    'visitor_team',\n",
    "    'score_away',\n",
    "    'home_team',\n",
    "    'score_home',\n",
    "    'total',\n",
    "    'id_total'\n",
    "]].copy()"
   ]
  },
  {
   "cell_type": "code",
   "execution_count": 16,
   "id": "a6e69d2b-7176-415c-a314-16b24a98d512",
   "metadata": {
    "panel-layout": {
     "height": 0,
     "visible": true,
     "width": 100
    }
   },
   "outputs": [
    {
     "name": "stdout",
     "output_type": "stream",
     "text": [
      "            Date        visitor_team  score_away              home_team  \\\n",
      "0     2023-10-24  Los Angeles Lakers         107         Denver Nuggets   \n",
      "1     2023-10-24  Los Angeles Lakers         108         Denver Nuggets   \n",
      "2     2023-10-24        Phoenix Suns         107  Golden State Warriors   \n",
      "3     2023-10-24        Phoenix Suns         108  Golden State Warriors   \n",
      "4     2023-10-25     Houston Rockets         111          Orlando Magic   \n",
      "...          ...                 ...         ...                    ...   \n",
      "11022 2024-04-14     Detroit Pistons         120      San Antonio Spurs   \n",
      "11023 2024-04-14     Detroit Pistons         124      San Antonio Spurs   \n",
      "11024 2024-04-14     Detroit Pistons          95      San Antonio Spurs   \n",
      "11025 2024-04-14     Detroit Pistons         116      San Antonio Spurs   \n",
      "11026 2024-04-14     Detroit Pistons         126      San Antonio Spurs   \n",
      "\n",
      "       score_home  total  id_total  \n",
      "0             119  228.5       0.0  \n",
      "1             104  235.5       0.0  \n",
      "2             119  228.5       0.0  \n",
      "3             104  235.5       0.0  \n",
      "4             104  224.5       0.0  \n",
      "...           ...    ...       ...  \n",
      "11022         110  208.5       1.0  \n",
      "11023         108  230.5       1.0  \n",
      "11024         123  221.5       0.0  \n",
      "11025         123  221.5       1.0  \n",
      "11026         111  216.5       1.0  \n",
      "\n",
      "[11027 rows x 7 columns]\n"
     ]
    }
   ],
   "source": [
    "print(model_df)"
   ]
  },
  {
   "cell_type": "markdown",
   "id": "551191c7-5069-43ce-9786-c8ff03e7f5a8",
   "metadata": {
    "panel-layout": {
     "height": 110.71875,
     "visible": true,
     "width": 100
    }
   },
   "source": [
    "# Create New Variables\n",
    "To help build the model, I want to create a combined actual game score column. This will be useful in assessing how far the Vegas line was from the actual final score. I also will create a rolling average column to assess how a team is playing as a whole, given game scores can vary quite a bit each game."
   ]
  },
  {
   "cell_type": "code",
   "execution_count": 18,
   "id": "3f701566-1cb2-4b99-a54d-0684300b79e4",
   "metadata": {},
   "outputs": [],
   "source": [
    "# Build total combined score\n",
    "model_df['actual_total'] = model_df['score_home'] + model_df['score_away']"
   ]
  },
  {
   "cell_type": "code",
   "execution_count": 19,
   "id": "d87a444e-52b5-4580-a737-d0dda9f7ff96",
   "metadata": {},
   "outputs": [],
   "source": [
    "# Create 3 game rolling average\n",
    "model_df['rolling_avg_total'] = model_df['actual_total'].shift(1).rolling(window=3, min_periods=1).mean()\n",
    "\n",
    "# Capture difference of game total vs vegas line\n",
    "model_df['diff_from_vegas'] = model_df['actual_total'] - model_df['total']"
   ]
  },
  {
   "cell_type": "code",
   "execution_count": 20,
   "id": "3dc64bf3-e1d6-4a3f-be67-6c87a4eb0671",
   "metadata": {
    "panel-layout": {
     "height": 0,
     "visible": true,
     "width": 100
    }
   },
   "outputs": [],
   "source": [
    "# Drop rows containing NaN\n",
    "model_df.dropna(inplace=True)\n"
   ]
  },
  {
   "cell_type": "code",
   "execution_count": 21,
   "id": "649894a1-2763-47f7-a9fb-d095d6df4b1a",
   "metadata": {},
   "outputs": [
    {
     "data": {
      "image/png": "[encoded data removed]",
      "text/plain": [
       "<Figure size 500x500 with 1 Axes>"
      ]
     },
     "metadata": {},
     "output_type": "display_data"
    }
   ],
   "source": [
    "sns.displot(model_df['actual_total'], kde=True)\n",
    "plt.xlabel('Total Score')\n",
    "plt.ylabel('Density')\n",
    "plt.title('Distribution of Actual Game Totals')\n",
    "plt.show()"
   ]
  },
  {
   "cell_type": "markdown",
   "id": "8dde1079-a657-4818-9ca1-d870a3b6caaa",
   "metadata": {
    "panel-layout": {
     "height": 84.40625,
     "visible": true,
     "width": 100
    }
   },
   "source": [
    "## Build Logistic Regression\n",
    "For this data, since id_total is binary, we will train and use a logistic regression model. "
   ]
  },
  {
   "cell_type": "code",
   "execution_count": 23,
   "id": "be7bea6e-4e4b-4a1b-84ab-078a52b2cb03",
   "metadata": {
    "panel-layout": {
     "height": 69.078125,
     "visible": true,
     "width": 100
    }
   },
   "outputs": [
    {
     "data": {
      "text/html": [
       "<style>#sk-container-id-1 {\n",
       "  /* Definition of color scheme common for light and dark mode */\n",
       "  --sklearn-color-text: black;\n",
       "  --sklearn-color-line: gray;\n",
       "  /* Definition of color scheme for unfitted estimators */\n",
       "  --sklearn-color-unfitted-level-0: #fff5e6;\n",
       "  --sklearn-color-unfitted-level-1: #f6e4d2;\n",
       "  --sklearn-color-unfitted-level-2: #ffe0b3;\n",
       "  --sklearn-color-unfitted-level-3: chocolate;\n",
       "  /* Definition of color scheme for fitted estimators */\n",
       "  --sklearn-color-fitted-level-0: #f0f8ff;\n",
       "  --sklearn-color-fitted-level-1: #d4ebff;\n",
       "  --sklearn-color-fitted-level-2: #b3dbfd;\n",
       "  --sklearn-color-fitted-level-3: cornflowerblue;\n",
       "\n",
       "  /* Specific color for light theme */\n",
       "  --sklearn-color-text-on-default-background: var(--sg-text-color, var(--theme-code-foreground, var(--jp-content-font-color1, black)));\n",
       "  --sklearn-color-background: var(--sg-background-color, var(--theme-background, var(--jp-layout-color0, white)));\n",
       "  --sklearn-color-border-box: var(--sg-text-color, var(--theme-code-foreground, var(--jp-content-font-color1, black)));\n",
       "  --sklearn-color-icon: #696969;\n",
       "\n",
       "  @media (prefers-color-scheme: dark) {\n",
       "    /* Redefinition of color scheme for dark theme */\n",
       "    --sklearn-color-text-on-default-background: var(--sg-text-color, var(--theme-code-foreground, var(--jp-content-font-color1, white)));\n",
       "    --sklearn-color-background: var(--sg-background-color, var(--theme-background, var(--jp-layout-color0, #111)));\n",
       "    --sklearn-color-border-box: var(--sg-text-color, var(--theme-code-foreground, var(--jp-content-font-color1, white)));\n",
       "    --sklearn-color-icon: #878787;\n",
       "  }\n",
       "}\n",
       "\n",
       "#sk-container-id-1 {\n",
       "  color: var(--sklearn-color-text);\n",
       "}\n",
       "\n",
       "#sk-container-id-1 pre {\n",
       "  padding: 0;\n",
       "}\n",
       "\n",
       "#sk-container-id-1 input.sk-hidden--visually {\n",
       "  border: 0;\n",
       "  clip: rect(1px 1px 1px 1px);\n",
       "  clip: rect(1px, 1px, 1px, 1px);\n",
       "  height: 1px;\n",
       "  margin: -1px;\n",
       "  overflow: hidden;\n",
       "  padding: 0;\n",
       "  position: absolute;\n",
       "  width: 1px;\n",
       "}\n",
       "\n",
       "#sk-container-id-1 div.sk-dashed-wrapped {\n",
       "  border: 1px dashed var(--sklearn-color-line);\n",
       "  margin: 0 0.4em 0.5em 0.4em;\n",
       "  box-sizing: border-box;\n",
       "  padding-bottom: 0.4em;\n",
       "  background-color: var(--sklearn-color-background);\n",
       "}\n",
       "\n",
       "#sk-container-id-1 div.sk-container {\n",
       "  /* jupyter's `normalize.less` sets `[hidden] { display: none; }`\n",
       "     but bootstrap.min.css set `[hidden] { display: none !important; }`\n",
       "     so we also need the `!important` here to be able to override the\n",
       "     default hidden behavior on the sphinx rendered scikit-learn.org.\n",
       "     See: https://github.com/scikit-learn/scikit-learn/issues/21755 */\n",
       "  display: inline-block !important;\n",
       "  position: relative;\n",
       "}\n",
       "\n",
       "#sk-container-id-1 div.sk-text-repr-fallback {\n",
       "  display: none;\n",
       "}\n",
       "\n",
       "div.sk-parallel-item,\n",
       "div.sk-serial,\n",
       "div.sk-item {\n",
       "  /* draw centered vertical line to link estimators */\n",
       "  background-image: linear-gradient(var(--sklearn-color-text-on-default-background), var(--sklearn-color-text-on-default-background));\n",
       "  background-size: 2px 100%;\n",
       "  background-repeat: no-repeat;\n",
       "  background-position: center center;\n",
       "}\n",
       "\n",
       "/* Parallel-specific style estimator block */\n",
       "\n",
       "#sk-container-id-1 div.sk-parallel-item::after {\n",
       "  content: \"\";\n",
       "  width: 100%;\n",
       "  border-bottom: 2px solid var(--sklearn-color-text-on-default-background);\n",
       "  flex-grow: 1;\n",
       "}\n",
       "\n",
       "#sk-container-id-1 div.sk-parallel {\n",
       "  display: flex;\n",
       "  align-items: stretch;\n",
       "  justify-content: center;\n",
       "  background-color: var(--sklearn-color-background);\n",
       "  position: relative;\n",
       "}\n",
       "\n",
       "#sk-container-id-1 div.sk-parallel-item {\n",
       "  display: flex;\n",
       "  flex-direction: column;\n",
       "}\n",
       "\n",
       "#sk-container-id-1 div.sk-parallel-item:first-child::after {\n",
       "  align-self: flex-end;\n",
       "  width: 50%;\n",
       "}\n",
       "\n",
       "#sk-container-id-1 div.sk-parallel-item:last-child::after {\n",
       "  align-self: flex-start;\n",
       "  width: 50%;\n",
       "}\n",
       "\n",
       "#sk-container-id-1 div.sk-parallel-item:only-child::after {\n",
       "  width: 0;\n",
       "}\n",
       "\n",
       "/* Serial-specific style estimator block */\n",
       "\n",
       "#sk-container-id-1 div.sk-serial {\n",
       "  display: flex;\n",
       "  flex-direction: column;\n",
       "  align-items: center;\n",
       "  background-color: var(--sklearn-color-background);\n",
       "  padding-right: 1em;\n",
       "  padding-left: 1em;\n",
       "}\n",
       "\n",
       "\n",
       "/* Toggleable style: style used for estimator/Pipeline/ColumnTransformer box that is\n",
       "clickable and can be expanded/collapsed.\n",
       "- Pipeline and ColumnTransformer use this feature and define the default style\n",
       "- Estimators will overwrite some part of the style using the `sk-estimator` class\n",
       "*/\n",
       "\n",
       "/* Pipeline and ColumnTransformer style (default) */\n",
       "\n",
       "#sk-container-id-1 div.sk-toggleable {\n",
       "  /* Default theme specific background. It is overwritten whether we have a\n",
       "  specific estimator or a Pipeline/ColumnTransformer */\n",
       "  background-color: var(--sklearn-color-background);\n",
       "}\n",
       "\n",
       "/* Toggleable label */\n",
       "#sk-container-id-1 label.sk-toggleable__label {\n",
       "  cursor: pointer;\n",
       "  display: block;\n",
       "  width: 100%;\n",
       "  margin-bottom: 0;\n",
       "  padding: 0.5em;\n",
       "  box-sizing: border-box;\n",
       "  text-align: center;\n",
       "}\n",
       "\n",
       "#sk-container-id-1 label.sk-toggleable__label-arrow:before {\n",
       "  /* Arrow on the left of the label */\n",
       "  content: \"▸\";\n",
       "  float: left;\n",
       "  margin-right: 0.25em;\n",
       "  color: var(--sklearn-color-icon);\n",
       "}\n",
       "\n",
       "#sk-container-id-1 label.sk-toggleable__label-arrow:hover:before {\n",
       "  color: var(--sklearn-color-text);\n",
       "}\n",
       "\n",
       "/* Toggleable content - dropdown */\n",
       "\n",
       "#sk-container-id-1 div.sk-toggleable__content {\n",
       "  max-height: 0;\n",
       "  max-width: 0;\n",
       "  overflow: hidden;\n",
       "  text-align: left;\n",
       "  /* unfitted */\n",
       "  background-color: var(--sklearn-color-unfitted-level-0);\n",
       "}\n",
       "\n",
       "#sk-container-id-1 div.sk-toggleable__content.fitted {\n",
       "  /* fitted */\n",
       "  background-color: var(--sklearn-color-fitted-level-0);\n",
       "}\n",
       "\n",
       "#sk-container-id-1 div.sk-toggleable__content pre {\n",
       "  margin: 0.2em;\n",
       "  border-radius: 0.25em;\n",
       "  color: var(--sklearn-color-text);\n",
       "  /* unfitted */\n",
       "  background-color: var(--sklearn-color-unfitted-level-0);\n",
       "}\n",
       "\n",
       "#sk-container-id-1 div.sk-toggleable__content.fitted pre {\n",
       "  /* unfitted */\n",
       "  background-color: var(--sklearn-color-fitted-level-0);\n",
       "}\n",
       "\n",
       "#sk-container-id-1 input.sk-toggleable__control:checked~div.sk-toggleable__content {\n",
       "  /* Expand drop-down */\n",
       "  max-height: 200px;\n",
       "  max-width: 100%;\n",
       "  overflow: auto;\n",
       "}\n",
       "\n",
       "#sk-container-id-1 input.sk-toggleable__control:checked~label.sk-toggleable__label-arrow:before {\n",
       "  content: \"▾\";\n",
       "}\n",
       "\n",
       "/* Pipeline/ColumnTransformer-specific style */\n",
       "\n",
       "#sk-container-id-1 div.sk-label input.sk-toggleable__control:checked~label.sk-toggleable__label {\n",
       "  color: var(--sklearn-color-text);\n",
       "  background-color: var(--sklearn-color-unfitted-level-2);\n",
       "}\n",
       "\n",
       "#sk-container-id-1 div.sk-label.fitted input.sk-toggleable__control:checked~label.sk-toggleable__label {\n",
       "  background-color: var(--sklearn-color-fitted-level-2);\n",
       "}\n",
       "\n",
       "/* Estimator-specific style */\n",
       "\n",
       "/* Colorize estimator box */\n",
       "#sk-container-id-1 div.sk-estimator input.sk-toggleable__control:checked~label.sk-toggleable__label {\n",
       "  /* unfitted */\n",
       "  background-color: var(--sklearn-color-unfitted-level-2);\n",
       "}\n",
       "\n",
       "#sk-container-id-1 div.sk-estimator.fitted input.sk-toggleable__control:checked~label.sk-toggleable__label {\n",
       "  /* fitted */\n",
       "  background-color: var(--sklearn-color-fitted-level-2);\n",
       "}\n",
       "\n",
       "#sk-container-id-1 div.sk-label label.sk-toggleable__label,\n",
       "#sk-container-id-1 div.sk-label label {\n",
       "  /* The background is the default theme color */\n",
       "  color: var(--sklearn-color-text-on-default-background);\n",
       "}\n",
       "\n",
       "/* On hover, darken the color of the background */\n",
       "#sk-container-id-1 div.sk-label:hover label.sk-toggleable__label {\n",
       "  color: var(--sklearn-color-text);\n",
       "  background-color: var(--sklearn-color-unfitted-level-2);\n",
       "}\n",
       "\n",
       "/* Label box, darken color on hover, fitted */\n",
       "#sk-container-id-1 div.sk-label.fitted:hover label.sk-toggleable__label.fitted {\n",
       "  color: var(--sklearn-color-text);\n",
       "  background-color: var(--sklearn-color-fitted-level-2);\n",
       "}\n",
       "\n",
       "/* Estimator label */\n",
       "\n",
       "#sk-container-id-1 div.sk-label label {\n",
       "  font-family: monospace;\n",
       "  font-weight: bold;\n",
       "  display: inline-block;\n",
       "  line-height: 1.2em;\n",
       "}\n",
       "\n",
       "#sk-container-id-1 div.sk-label-container {\n",
       "  text-align: center;\n",
       "}\n",
       "\n",
       "/* Estimator-specific */\n",
       "#sk-container-id-1 div.sk-estimator {\n",
       "  font-family: monospace;\n",
       "  border: 1px dotted var(--sklearn-color-border-box);\n",
       "  border-radius: 0.25em;\n",
       "  box-sizing: border-box;\n",
       "  margin-bottom: 0.5em;\n",
       "  /* unfitted */\n",
       "  background-color: var(--sklearn-color-unfitted-level-0);\n",
       "}\n",
       "\n",
       "#sk-container-id-1 div.sk-estimator.fitted {\n",
       "  /* fitted */\n",
       "  background-color: var(--sklearn-color-fitted-level-0);\n",
       "}\n",
       "\n",
       "/* on hover */\n",
       "#sk-container-id-1 div.sk-estimator:hover {\n",
       "  /* unfitted */\n",
       "  background-color: var(--sklearn-color-unfitted-level-2);\n",
       "}\n",
       "\n",
       "#sk-container-id-1 div.sk-estimator.fitted:hover {\n",
       "  /* fitted */\n",
       "  background-color: var(--sklearn-color-fitted-level-2);\n",
       "}\n",
       "\n",
       "/* Specification for estimator info (e.g. \"i\" and \"?\") */\n",
       "\n",
       "/* Common style for \"i\" and \"?\" */\n",
       "\n",
       ".sk-estimator-doc-link,\n",
       "a:link.sk-estimator-doc-link,\n",
       "a:visited.sk-estimator-doc-link {\n",
       "  float: right;\n",
       "  font-size: smaller;\n",
       "  line-height: 1em;\n",
       "  font-family: monospace;\n",
       "  background-color: var(--sklearn-color-background);\n",
       "  border-radius: 1em;\n",
       "  height: 1em;\n",
       "  width: 1em;\n",
       "  text-decoration: none !important;\n",
       "  margin-left: 1ex;\n",
       "  /* unfitted */\n",
       "  border: var(--sklearn-color-unfitted-level-1) 1pt solid;\n",
       "  color: var(--sklearn-color-unfitted-level-1);\n",
       "}\n",
       "\n",
       ".sk-estimator-doc-link.fitted,\n",
       "a:link.sk-estimator-doc-link.fitted,\n",
       "a:visited.sk-estimator-doc-link.fitted {\n",
       "  /* fitted */\n",
       "  border: var(--sklearn-color-fitted-level-1) 1pt solid;\n",
       "  color: var(--sklearn-color-fitted-level-1);\n",
       "}\n",
       "\n",
       "/* On hover */\n",
       "div.sk-estimator:hover .sk-estimator-doc-link:hover,\n",
       ".sk-estimator-doc-link:hover,\n",
       "div.sk-label-container:hover .sk-estimator-doc-link:hover,\n",
       ".sk-estimator-doc-link:hover {\n",
       "  /* unfitted */\n",
       "  background-color: var(--sklearn-color-unfitted-level-3);\n",
       "  color: var(--sklearn-color-background);\n",
       "  text-decoration: none;\n",
       "}\n",
       "\n",
       "div.sk-estimator.fitted:hover .sk-estimator-doc-link.fitted:hover,\n",
       ".sk-estimator-doc-link.fitted:hover,\n",
       "div.sk-label-container:hover .sk-estimator-doc-link.fitted:hover,\n",
       ".sk-estimator-doc-link.fitted:hover {\n",
       "  /* fitted */\n",
       "  background-color: var(--sklearn-color-fitted-level-3);\n",
       "  color: var(--sklearn-color-background);\n",
       "  text-decoration: none;\n",
       "}\n",
       "\n",
       "/* Span, style for the box shown on hovering the info icon */\n",
       ".sk-estimator-doc-link span {\n",
       "  display: none;\n",
       "  z-index: 9999;\n",
       "  position: relative;\n",
       "  font-weight: normal;\n",
       "  right: .2ex;\n",
       "  padding: .5ex;\n",
       "  margin: .5ex;\n",
       "  width: min-content;\n",
       "  min-width: 20ex;\n",
       "  max-width: 50ex;\n",
       "  color: var(--sklearn-color-text);\n",
       "  box-shadow: 2pt 2pt 4pt #999;\n",
       "  /* unfitted */\n",
       "  background: var(--sklearn-color-unfitted-level-0);\n",
       "  border: .5pt solid var(--sklearn-color-unfitted-level-3);\n",
       "}\n",
       "\n",
       ".sk-estimator-doc-link.fitted span {\n",
       "  /* fitted */\n",
       "  background: var(--sklearn-color-fitted-level-0);\n",
       "  border: var(--sklearn-color-fitted-level-3);\n",
       "}\n",
       "\n",
       ".sk-estimator-doc-link:hover span {\n",
       "  display: block;\n",
       "}\n",
       "\n",
       "/* \"?\"-specific style due to the `<a>` HTML tag */\n",
       "\n",
       "#sk-container-id-1 a.estimator_doc_link {\n",
       "  float: right;\n",
       "  font-size: 1rem;\n",
       "  line-height: 1em;\n",
       "  font-family: monospace;\n",
       "  background-color: var(--sklearn-color-background);\n",
       "  border-radius: 1rem;\n",
       "  height: 1rem;\n",
       "  width: 1rem;\n",
       "  text-decoration: none;\n",
       "  /* unfitted */\n",
       "  color: var(--sklearn-color-unfitted-level-1);\n",
       "  border: var(--sklearn-color-unfitted-level-1) 1pt solid;\n",
       "}\n",
       "\n",
       "#sk-container-id-1 a.estimator_doc_link.fitted {\n",
       "  /* fitted */\n",
       "  border: var(--sklearn-color-fitted-level-1) 1pt solid;\n",
       "  color: var(--sklearn-color-fitted-level-1);\n",
       "}\n",
       "\n",
       "/* On hover */\n",
       "#sk-container-id-1 a.estimator_doc_link:hover {\n",
       "  /* unfitted */\n",
       "  background-color: var(--sklearn-color-unfitted-level-3);\n",
       "  color: var(--sklearn-color-background);\n",
       "  text-decoration: none;\n",
       "}\n",
       "\n",
       "#sk-container-id-1 a.estimator_doc_link.fitted:hover {\n",
       "  /* fitted */\n",
       "  background-color: var(--sklearn-color-fitted-level-3);\n",
       "}\n",
       "</style><div id=\"sk-container-id-1\" class=\"sk-top-container\"><div class=\"sk-text-repr-fallback\"><pre>LogisticRegression()</pre><b>In a Jupyter environment, please rerun this cell to show the HTML representation or trust the notebook. <br />On GitHub, the HTML representation is unable to render, please try loading this page with nbviewer.org.</b></div><div class=\"sk-container\" hidden><div class=\"sk-item\"><div class=\"sk-estimator fitted sk-toggleable\"><input class=\"sk-toggleable__control sk-hidden--visually\" id=\"sk-estimator-id-1\" type=\"checkbox\" checked><label for=\"sk-estimator-id-1\" class=\"sk-toggleable__label fitted sk-toggleable__label-arrow fitted\">&nbsp;&nbsp;LogisticRegression<a class=\"sk-estimator-doc-link fitted\" rel=\"noreferrer\" target=\"_blank\" href=\"https://scikit-learn.org/1.5/modules/generated/sklearn.linear_model.LogisticRegression.html\">?<span>Documentation for LogisticRegression</span></a><span class=\"sk-estimator-doc-link fitted\">i<span>Fitted</span></span></label><div class=\"sk-toggleable__content fitted\"><pre>LogisticRegression()</pre></div> </div></div></div></div>"
      ],
      "text/plain": [
       "LogisticRegression()"
      ]
     },
     "execution_count": 23,
     "metadata": {},
     "output_type": "execute_result"
    }
   ],
   "source": [
    "X = model_df[['rolling_avg_total', 'actual_total']] \n",
    "y = model_df['id_total']  # 1 = Over, 0 = Under\n",
    "\n",
    "# Train-test split\n",
    "X_train, X_test, y_train, y_test = train_test_split(X, y, test_size=0.2, shuffle=False)\n",
    "\n",
    "# Train model\n",
    "model = LogisticRegression()\n",
    "model.fit(X_train, y_train)"
   ]
  },
  {
   "cell_type": "markdown",
   "id": "03470867-57da-49f7-bf4f-ac6efcb5fe18",
   "metadata": {
    "panel-layout": {
     "height": 84.40625,
     "visible": true,
     "width": 100
    }
   },
   "source": [
    "## Evaluate Accuracy\n",
    "Does the model accurately predict game outcomes?"
   ]
  },
  {
   "cell_type": "code",
   "execution_count": 25,
   "id": "a39a4dc1-2296-469c-8081-f0454c6fc7e9",
   "metadata": {
    "panel-layout": {
     "height": 0,
     "visible": true,
     "width": 100
    }
   },
   "outputs": [
    {
     "name": "stdout",
     "output_type": "stream",
     "text": [
      "              precision    recall  f1-score   support\n",
      "\n",
      "         0.0       0.68      0.99      0.80       920\n",
      "         1.0       0.99      0.66      0.79      1279\n",
      "\n",
      "    accuracy                           0.80      2199\n",
      "   macro avg       0.83      0.82      0.80      2199\n",
      "weighted avg       0.86      0.80      0.80      2199\n",
      "\n"
     ]
    }
   ],
   "source": [
    "# Evaluate model\n",
    "preds = model.predict(X_test)\n",
    "print(classification_report(y_test, preds))"
   ]
  },
  {
   "cell_type": "code",
   "execution_count": 26,
   "id": "c8f9c86d-02cd-4f97-8dd7-e05396c1b09d",
   "metadata": {
    "panel-layout": {
     "height": 701,
     "visible": true,
     "width": 100
    }
   },
   "outputs": [
    {
     "data": {
      "image/png": "[encoded data removed]",
      "text/plain": [
       "<Figure size 640x480 with 2 Axes>"
      ]
     },
     "metadata": {},
     "output_type": "display_data"
    }
   ],
   "source": [
    "cm = metrics.confusion_matrix(y_test, preds)\n",
    "cm_display = metrics.ConfusionMatrixDisplay(confusion_matrix = cm, display_labels = [0, 1])\n",
    "cm_display.plot()\n",
    "plt.show()"
   ]
  },
  {
   "cell_type": "markdown",
   "id": "35fd6220-200a-4495-978a-8a4b92291dcb",
   "metadata": {
    "panel-layout": {
     "height": 84.40625,
     "visible": true,
     "width": 100
    }
   },
   "source": [
    "## Model Assessment\n",
    "Looking at the data, the model is overall 80% accurate. The model tends to predict the under more than the over. When it predicts the over, it is almost never wrong. When predicting the under, it is less accurate, but still fairly accurate.  "
   ]
  },
  {
   "cell_type": "markdown",
   "id": "689d3139-823a-4962-9d8d-8bff6a8052a3",
   "metadata": {},
   "source": [
    "## User Input\n",
    "Let's use our model to make some money. Input tonight's over/under and get the odds of the over hitting."
   ]
  },
  {
   "cell_type": "code",
   "execution_count": 48,
   "id": "aead544a-dddc-425f-8ce7-17c0e26ebe55",
   "metadata": {},
   "outputs": [
    {
     "name": "stdin",
     "output_type": "stream",
     "text": [
      "Input team name:  Atlanta Hawks\n",
      "What is the over/under?  225\n"
     ]
    },
    {
     "name": "stdout",
     "output_type": "stream",
     "text": [
      "The probability of the over hitting for Atlanta Hawks with an over/under of 225.0 is 0.46\n"
     ]
    }
   ],
   "source": [
    "\n",
    "# User input for team name and over/under value\n",
    "team_name = input(\"Input team name: \")\n",
    "over_under = float(input(\"What is the over/under? \"))\n",
    "\n",
    "# Filter the data for the specified team\n",
    "team_data = model_df[(model_df['home_team'] == team_name) | (model_df['visitor_team'] == team_name)].copy()\n",
    "\n",
    "# Calculate the probability of the over hitting\n",
    "team_data.loc[:, 'predicted_prob'] = model.predict_proba(team_data[['rolling_avg_total', 'actual_total']])[:, 1]\n",
    "\n",
    "# Display the probability\n",
    "print(f\"The probability of the over hitting for {team_name} with an over/under of {over_under} is {team_data['predicted_prob'].mean():.2f}\")\n"
   ]
  },
  {
   "cell_type": "code",
   "execution_count": 51,
   "id": "c76ed888-a5ca-4ae9-bf89-fe170af8478e",
   "metadata": {},
   "outputs": [],
   "source": [
    "import nbformat\n",
    "from nbconvert import HTMLExporter\n",
    "\n",
    "# Read the notebook file\n",
    "with open('Revised Final.ipynb', 'r') as f:\n",
    "    notebook_content = f.read()\n",
    "\n",
    "# Convert the notebook to HTML\n",
    "notebook_node = nbformat.reads(notebook_content, as_version=4)\n",
    "html_exporter = HTMLExporter()\n",
    "html_exporter.template_name = 'basic'\n",
    "html_content, _ = html_exporter.from_notebook_node(notebook_node)\n",
    "\n",
    "# Save the HTML content to a file\n",
    "with open('Revised Final.html', 'w') as f:\n",
    "    f.write(html_content)\n"
   ]
  },
  {
   "cell_type": "code",
   "execution_count": null,
   "id": "0d4b5994-0575-405e-af41-25090bd21efa",
   "metadata": {},
   "outputs": [],
   "source": []
  }
 ],
 "metadata": {
  "kernelspec": {
   "display_name": "Python [conda env:base] *",
   "language": "python",
   "name": "conda-base-py"
  },
  "language_info": {
   "codemirror_mode": {
    "name": "ipython",
    "version": 3
   },
   "file_extension": ".py",
   "mimetype": "text/x-python",
   "name": "python",
   "nbconvert_exporter": "python",
   "pygments_lexer": "ipython3",
   "version": "3.12.7"
  },
  "panel-cell-order": [
   "f7da66be-b679-49a2-96bc-4ec0ecbb3c18",
   "4d7a5696-72aa-4871-b63f-2e3e38578b44",
   "21fb19d3-d74c-4453-a594-1ece87d04a9d",
   "da3454f5-a186-486b-9ba8-74c97d7692a9",
   "475233e3-774d-48a7-af50-8f64fd1db33f",
   "1f9121d1-5025-431d-a4d6-ee91fd98d327",
   "a6e69d2b-7176-415c-a314-16b24a98d512",
   "551191c7-5069-43ce-9786-c8ff03e7f5a8",
   "3dc64bf3-e1d6-4a3f-be67-6c87a4eb0671",
   "8dde1079-a657-4818-9ca1-d870a3b6caaa",
   "be7bea6e-4e4b-4a1b-84ab-078a52b2cb03",
   "03470867-57da-49f7-bf4f-ac6efcb5fe18",
   "a39a4dc1-2296-469c-8081-f0454c6fc7e9",
   "c8f9c86d-02cd-4f97-8dd7-e05396c1b09d",
   "35fd6220-200a-4495-978a-8a4b92291dcb"
  ]
 },
 "nbformat": 4,
 "nbformat_minor": 5
}
